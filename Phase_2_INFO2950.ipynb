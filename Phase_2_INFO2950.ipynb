{
 "cells": [
  {
   "cell_type": "code",
   "execution_count": 8,
   "id": "6433a246",
   "metadata": {},
   "outputs": [],
   "source": [
    "import numpy as np \n",
    "import seaborn as sns \n",
    "import pandas as pd \n",
    "import duckdb, sqlalchemy "
   ]
  },
  {
   "cell_type": "code",
   "execution_count": 9,
   "id": "1c7050a9",
   "metadata": {},
   "outputs": [],
   "source": [
    "%load_ext sql\n",
    "\n",
    "%config SqlMagic.autopandas = True\n",
    "%config SqlMagic.feedback = False\n",
    "%config SqlMagic.displaycon = False\n",
    "\n",
    "%sql duckdb:///:memory:"
   ]
  },
  {
   "cell_type": "markdown",
   "id": "e32441a2",
   "metadata": {},
   "source": [
    "# Introduction \n",
    "\n",
    "The fertility rate in all, if not most countries is susceptible to fluctuation over period of time. Whether that may be due to a singular factor or a result of intricate relationships of multiple factors, we are intrigued to possibly compare and identify different factors that might play a significant role in the fertility rate across differnt countries. We have collected publicly available data with statistics on fertility rate of OECD (The Organization for Economic Cooperation and Development) from 1960-2021 along with other notable statistics about those countries such as GDP, Health Spending, Young Population, Elderly Population, Adult Education Level, and Accesss to Internet. We are analzying this data to identify patterns in the possible relationships these attributes might have on the fertility rate across different countries over time. "
   ]
  },
  {
   "cell_type": "markdown",
   "id": "197ce8bd",
   "metadata": {},
   "source": [
    "# Data Collection and Cleaning \n",
    "\n",
    "Our data is collected from OECD website. We collected the countries' Fertility Rates, GDP (Gross Domestic Product), Young Population, Elderly Population, Adult Education Level,and Access to Internet. It is also hosted on Google Drive Here. "
   ]
  },
  {
   "cell_type": "code",
   "execution_count": 15,
   "id": "99027265",
   "metadata": {},
   "outputs": [
    {
     "name": "stdout",
     "output_type": "stream",
     "text": [
      "     LOCATION,\"INDICATOR\",\"SUBJECT\",\"MEASURE\",\"FREQUENCY\",\"TIME\",\"Value\",\"Flag Codes\"\n",
      "0     AUS,\"FERTILITY\",\"TOT\",\"CHD_WOMAN\",\"A\",\"1960\",3...                              \n",
      "1     AUS,\"FERTILITY\",\"TOT\",\"CHD_WOMAN\",\"A\",\"1961\",3...                              \n",
      "2     AUS,\"FERTILITY\",\"TOT\",\"CHD_WOMAN\",\"A\",\"1962\",3...                              \n",
      "3     AUS,\"FERTILITY\",\"TOT\",\"CHD_WOMAN\",\"A\",\"1963\",3...                              \n",
      "4     AUS,\"FERTILITY\",\"TOT\",\"CHD_WOMAN\",\"A\",\"1964\",3...                              \n",
      "...                                                 ...                              \n",
      "3234  EU,\"FERTILITY\",\"TOT\",\"CHD_WOMAN\",\"A\",\"2014\",1.53,                              \n",
      "3235  EU,\"FERTILITY\",\"TOT\",\"CHD_WOMAN\",\"A\",\"2015\",1.54,                              \n",
      "3236  EU,\"FERTILITY\",\"TOT\",\"CHD_WOMAN\",\"A\",\"2016\",1.56,                              \n",
      "3237  EU,\"FERTILITY\",\"TOT\",\"CHD_WOMAN\",\"A\",\"2017\",1.54,                              \n",
      "3238  EU,\"FERTILITY\",\"TOT\",\"CHD_WOMAN\",\"A\",\"2018\",1.53,                              \n",
      "\n",
      "[3239 rows x 1 columns]\n"
     ]
    }
   ],
   "source": [
    "reproduction_rates_df = pd.read_table('/Users/jasonlee/Downloads/reproduction_rates.csv')\n",
    "print(reproduction_rates_df)\n"
   ]
  },
  {
   "cell_type": "code",
   "execution_count": null,
   "id": "9dd5e5b8",
   "metadata": {},
   "outputs": [],
   "source": []
  }
 ],
 "metadata": {
  "kernelspec": {
   "display_name": "Python 3 (ipykernel)",
   "language": "python",
   "name": "python3"
  },
  "language_info": {
   "codemirror_mode": {
    "name": "ipython",
    "version": 3
   },
   "file_extension": ".py",
   "mimetype": "text/x-python",
   "name": "python",
   "nbconvert_exporter": "python",
   "pygments_lexer": "ipython3",
   "version": "3.8.13"
  }
 },
 "nbformat": 4,
 "nbformat_minor": 5
}
