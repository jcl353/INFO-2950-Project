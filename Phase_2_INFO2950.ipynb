{
 "cells": [
  {
   "cell_type": "markdown",
   "id": "ab46f54f",
   "metadata": {},
   "source": [
    "# Analysis of Fertility Rate and Its Various Factors Across Countries In The Past Decade \n",
    "\n",
    "Jason Lee and Jay Lee"
   ]
  },
  {
   "cell_type": "markdown",
   "id": "afe5d89b",
   "metadata": {},
   "source": [
    "## Introduction \n",
    "\n",
    "The fertility rate in all, if not most countries is susceptible to fluctuation over period of time. Whether that may be due to a singular factor or a result of intricate relationships of multiple factors, we are intrigued to possibly compare and identify different factors that might play a significant role in the fluctuation of fertility rate across differnt countries. We have collected publicly available data with statistics on fertility rate of OECD (The Organization for Economic Cooperation and Development) in the last decade along with other notable statistics about those countries such as GDP, Health Spending, Employment Rate, Adult Education Level, and Internet Access. We are analzying this data to identify patterns in the possible relationships these attributes might have on the fertility rate across different countries over time. \n",
    "\n",
    "Fertility rate in a specific year is described as the total number of children that would be born to each woman given that she is able to live to the end of her child-bearing years and give birth to children in correspondence to the age-specific fertility rates. A total fertility rate of 2.1 children per woman ensures a broadly stable population assuming that there is an equilibrium in net migration and mortality. Together with mortality and migration, fertility rate reflects the effects of multifaceted development of a country, whether that may be economical, social, and/or more.  "
   ]
  },
  {
   "cell_type": "markdown",
   "id": "fe852b29",
   "metadata": {},
   "source": [
    "## Data Collection and Cleaning \n",
    "\n",
    "Our data is collected from OECD website. We collected the countries' Fertility Rates, GDP (Gross Domestic Product), Young Population, Elderly Population, Adult Education Level,and Access to Internet. It is also hosted on Google Drive [here](https://drive.google.com/drive/folders/100_ZZScW3yAXBZ9k2wZW5fegNIw2HC6G?usp=sharing)"
   ]
  },
  {
   "cell_type": "code",
   "execution_count": 2,
   "id": "9e34fdef",
   "metadata": {},
   "outputs": [],
   "source": [
    "import numpy as np \n",
    "import seaborn as sns \n",
    "import pandas as pd \n",
    "import duckdb, sqlalchemy \n",
    "\n",
    "%load_ext sql\n",
    "\n",
    "%config SqlMagic.autopandas = True\n",
    "%config SqlMagic.feedback = False\n",
    "%config SqlMagic.displaycon = False\n",
    "\n",
    "%sql duckdb:///:memory:"
   ]
  },
  {
   "cell_type": "markdown",
   "id": "7aea77d5",
   "metadata": {},
   "source": [
    "## Fertility Rates\n",
    "\n",
    "These are the fertility rates of OECD countries from 1960-1970. In the cells below, the data is cleaned by removing insignificant datas. For example, data pertaining to \"OECD Average\" is unnecessary for the research as it looks into each specific country, rather than an average of the countries. In addition, some rows are renamed and/or removed to make the data simpler and more intuitive. The same procedures are followed for other sets of data as well. "
   ]
  },
  {
   "cell_type": "code",
   "execution_count": 118,
   "id": "99027265",
   "metadata": {},
   "outputs": [
    {
     "name": "stdout",
     "output_type": "stream",
     "text": [
      "(380, 3)\n"
     ]
    },
    {
     "data": {
      "text/html": [
       "<div>\n",
       "<style scoped>\n",
       "    .dataframe tbody tr th:only-of-type {\n",
       "        vertical-align: middle;\n",
       "    }\n",
       "\n",
       "    .dataframe tbody tr th {\n",
       "        vertical-align: top;\n",
       "    }\n",
       "\n",
       "    .dataframe thead th {\n",
       "        text-align: right;\n",
       "    }\n",
       "</style>\n",
       "<table border=\"1\" class=\"dataframe\">\n",
       "  <thead>\n",
       "    <tr style=\"text-align: right;\">\n",
       "      <th></th>\n",
       "      <th>Country</th>\n",
       "      <th>Year</th>\n",
       "      <th>FertilityRate</th>\n",
       "    </tr>\n",
       "  </thead>\n",
       "  <tbody>\n",
       "    <tr>\n",
       "      <th>0</th>\n",
       "      <td>AUS</td>\n",
       "      <td>2011</td>\n",
       "      <td>1.92</td>\n",
       "    </tr>\n",
       "    <tr>\n",
       "      <th>1</th>\n",
       "      <td>AUS</td>\n",
       "      <td>2012</td>\n",
       "      <td>1.93</td>\n",
       "    </tr>\n",
       "    <tr>\n",
       "      <th>2</th>\n",
       "      <td>AUS</td>\n",
       "      <td>2013</td>\n",
       "      <td>1.88</td>\n",
       "    </tr>\n",
       "    <tr>\n",
       "      <th>3</th>\n",
       "      <td>AUS</td>\n",
       "      <td>2014</td>\n",
       "      <td>1.79</td>\n",
       "    </tr>\n",
       "    <tr>\n",
       "      <th>4</th>\n",
       "      <td>AUS</td>\n",
       "      <td>2015</td>\n",
       "      <td>1.79</td>\n",
       "    </tr>\n",
       "  </tbody>\n",
       "</table>\n",
       "</div>"
      ],
      "text/plain": [
       "  Country  Year  FertilityRate\n",
       "0     AUS  2011           1.92\n",
       "1     AUS  2012           1.93\n",
       "2     AUS  2013           1.88\n",
       "3     AUS  2014           1.79\n",
       "4     AUS  2015           1.79"
      ]
     },
     "execution_count": 118,
     "metadata": {},
     "output_type": "execute_result"
    }
   ],
   "source": [
    "fertility_rates_df = pd.read_csv('/Users/jasonlee/Downloads/INFO2950_Project_Data/Fertility_Rates.csv')\n",
    "\n",
    "#Renaming the columns \n",
    "fertility_rates_df.drop(['INDICATOR','SUBJECT','MEASURE','FREQUENCY','Flag Codes'],axis=1, inplace=True)\n",
    "\n",
    "fertility_rates_df.columns\n",
    "fertility_rates_df.columns = ['Country','Year','FertilityRate']\n",
    "\n",
    "print(fertility_rates_df.shape)\n",
    "\n",
    "#Rows with the Country value 'OAVG' is removed \n",
    "fertility_rates_df = fertility_rates_df.drop(fertility_rates_df.index[fertility_rates_df['Country'].isin(['OAVG' ])])\n",
    "\n",
    "fertility_rates_df.head()"
   ]
  },
  {
   "cell_type": "markdown",
   "id": "28715aa5",
   "metadata": {},
   "source": [
    "## GDP (Gross Domestic Product) \n",
    "\n",
    "Similar to Fertility Rates, the data regarding GDP is followed by similar procedures for cleaning. To make sure the number rows match the previous set of data, we went through the data and removed any excess data, such as \"OECD\"."
   ]
  },
  {
   "cell_type": "code",
   "execution_count": 117,
   "id": "30e57c6c",
   "metadata": {},
   "outputs": [
    {
     "name": "stdout",
     "output_type": "stream",
     "text": [
      "(380, 3)\n"
     ]
    },
    {
     "data": {
      "text/html": [
       "<div>\n",
       "<style scoped>\n",
       "    .dataframe tbody tr th:only-of-type {\n",
       "        vertical-align: middle;\n",
       "    }\n",
       "\n",
       "    .dataframe tbody tr th {\n",
       "        vertical-align: top;\n",
       "    }\n",
       "\n",
       "    .dataframe thead th {\n",
       "        text-align: right;\n",
       "    }\n",
       "</style>\n",
       "<table border=\"1\" class=\"dataframe\">\n",
       "  <thead>\n",
       "    <tr style=\"text-align: right;\">\n",
       "      <th></th>\n",
       "      <th>Country</th>\n",
       "      <th>Year</th>\n",
       "      <th>GDP (US Dollar/Capita)</th>\n",
       "    </tr>\n",
       "  </thead>\n",
       "  <tbody>\n",
       "    <tr>\n",
       "      <th>0</th>\n",
       "      <td>AUS</td>\n",
       "      <td>2011</td>\n",
       "      <td>44429.559507</td>\n",
       "    </tr>\n",
       "    <tr>\n",
       "      <th>1</th>\n",
       "      <td>AUS</td>\n",
       "      <td>2012</td>\n",
       "      <td>43883.378891</td>\n",
       "    </tr>\n",
       "    <tr>\n",
       "      <th>2</th>\n",
       "      <td>AUS</td>\n",
       "      <td>2013</td>\n",
       "      <td>47761.901259</td>\n",
       "    </tr>\n",
       "    <tr>\n",
       "      <th>3</th>\n",
       "      <td>AUS</td>\n",
       "      <td>2014</td>\n",
       "      <td>47603.880878</td>\n",
       "    </tr>\n",
       "    <tr>\n",
       "      <th>4</th>\n",
       "      <td>AUS</td>\n",
       "      <td>2015</td>\n",
       "      <td>47232.629120</td>\n",
       "    </tr>\n",
       "  </tbody>\n",
       "</table>\n",
       "</div>"
      ],
      "text/plain": [
       "  Country  Year  GDP (US Dollar/Capita)\n",
       "0     AUS  2011            44429.559507\n",
       "1     AUS  2012            43883.378891\n",
       "2     AUS  2013            47761.901259\n",
       "3     AUS  2014            47603.880878\n",
       "4     AUS  2015            47232.629120"
      ]
     },
     "execution_count": 117,
     "metadata": {},
     "output_type": "execute_result"
    }
   ],
   "source": [
    "GDP_df = pd.read_csv('/Users/jasonlee/Downloads/INFO2950_Project_Data/GDP.csv')\n",
    "\n",
    "#Renaming the columns \n",
    "GDP_df.drop(['INDICATOR','SUBJECT','MEASURE','FREQUENCY','Flag Codes'],axis=1, inplace=True)\n",
    "\n",
    "GDP_df.columns\n",
    "GDP_df.columns = ['Country','Year','GDP (US Dollar/Capita)']\n",
    "\n",
    "\n",
    "#Rows with the Country value 'OECD' is removed \n",
    "GDP_df = GDP_df.drop(GDP_df.index[GDP_df['Country'].isin(['OECD'])])\n",
    "\n",
    "print(GDP_df.shape)\n",
    "\n",
    "\n",
    "GDP_df.head()\n"
   ]
  },
  {
   "cell_type": "markdown",
   "id": "0b2d461f",
   "metadata": {},
   "source": [
    "## Health Spending "
   ]
  },
  {
   "cell_type": "code",
   "execution_count": 116,
   "id": "112134db",
   "metadata": {},
   "outputs": [
    {
     "name": "stdout",
     "output_type": "stream",
     "text": [
      "(380, 3)\n"
     ]
    },
    {
     "data": {
      "text/html": [
       "<div>\n",
       "<style scoped>\n",
       "    .dataframe tbody tr th:only-of-type {\n",
       "        vertical-align: middle;\n",
       "    }\n",
       "\n",
       "    .dataframe tbody tr th {\n",
       "        vertical-align: top;\n",
       "    }\n",
       "\n",
       "    .dataframe thead th {\n",
       "        text-align: right;\n",
       "    }\n",
       "</style>\n",
       "<table border=\"1\" class=\"dataframe\">\n",
       "  <thead>\n",
       "    <tr style=\"text-align: right;\">\n",
       "      <th></th>\n",
       "      <th>Country</th>\n",
       "      <th>Year</th>\n",
       "      <th>Health Spending (US Dollar/Capita)</th>\n",
       "    </tr>\n",
       "  </thead>\n",
       "  <tbody>\n",
       "    <tr>\n",
       "      <th>0</th>\n",
       "      <td>AUS</td>\n",
       "      <td>2011</td>\n",
       "      <td>3809.112</td>\n",
       "    </tr>\n",
       "    <tr>\n",
       "      <th>1</th>\n",
       "      <td>AUS</td>\n",
       "      <td>2012</td>\n",
       "      <td>3854.190</td>\n",
       "    </tr>\n",
       "    <tr>\n",
       "      <th>2</th>\n",
       "      <td>AUS</td>\n",
       "      <td>2013</td>\n",
       "      <td>4087.849</td>\n",
       "    </tr>\n",
       "    <tr>\n",
       "      <th>3</th>\n",
       "      <td>AUS</td>\n",
       "      <td>2014</td>\n",
       "      <td>4562.730</td>\n",
       "    </tr>\n",
       "    <tr>\n",
       "      <th>4</th>\n",
       "      <td>AUS</td>\n",
       "      <td>2015</td>\n",
       "      <td>4777.388</td>\n",
       "    </tr>\n",
       "  </tbody>\n",
       "</table>\n",
       "</div>"
      ],
      "text/plain": [
       "  Country  Year  Health Spending (US Dollar/Capita)\n",
       "0     AUS  2011                            3809.112\n",
       "1     AUS  2012                            3854.190\n",
       "2     AUS  2013                            4087.849\n",
       "3     AUS  2014                            4562.730\n",
       "4     AUS  2015                            4777.388"
      ]
     },
     "execution_count": 116,
     "metadata": {},
     "output_type": "execute_result"
    }
   ],
   "source": [
    "Health_spending_df = pd.read_csv('/Users/jasonlee/Downloads/INFO2950_Project_Data/Health_Spending.csv')\n",
    "\n",
    "#Renaming the columns \n",
    "Health_spending_df.drop(['INDICATOR','SUBJECT','MEASURE','FREQUENCY','Flag Codes'],axis=1, inplace=True)\n",
    "\n",
    "Health_spending_df.columns\n",
    "Health_spending_df.columns = ['Country','Year','Health Spending (US Dollar/Capita)']\n",
    "\n",
    "\n",
    "#Rows with the Country value 'OECD' is removed \n",
    "Health_spending_df = Health_spending_df.drop(Health_spending_df.index[Health_spending_df['Country'].isin(['OECD'])])\n",
    "print(Health_spending_df.shape)\n",
    "Health_spending_df.head()"
   ]
  },
  {
   "cell_type": "markdown",
   "id": "37829581",
   "metadata": {},
   "source": [
    "## Employment Rate\n",
    "\n",
    "The original set of Employment Rate data consisted a total of 389 rows. Upon closer inspection, we cleaned up the data by removing set of datas with 'OECD' like the data sets above. However, this set of data was missing a value in employment rate, specifically Mexico in 2020. Thus, the data was physically manipulated to include NaN in order to keep the number of rows in the data consistent. \n",
    "\n",
    "\n"
   ]
  },
  {
   "cell_type": "code",
   "execution_count": 115,
   "id": "c93985f3",
   "metadata": {},
   "outputs": [
    {
     "name": "stdout",
     "output_type": "stream",
     "text": [
      "(380, 3)\n"
     ]
    },
    {
     "data": {
      "text/html": [
       "<div>\n",
       "<style scoped>\n",
       "    .dataframe tbody tr th:only-of-type {\n",
       "        vertical-align: middle;\n",
       "    }\n",
       "\n",
       "    .dataframe tbody tr th {\n",
       "        vertical-align: top;\n",
       "    }\n",
       "\n",
       "    .dataframe thead th {\n",
       "        text-align: right;\n",
       "    }\n",
       "</style>\n",
       "<table border=\"1\" class=\"dataframe\">\n",
       "  <thead>\n",
       "    <tr style=\"text-align: right;\">\n",
       "      <th></th>\n",
       "      <th>Country</th>\n",
       "      <th>Year</th>\n",
       "      <th>EmploymentRate</th>\n",
       "    </tr>\n",
       "  </thead>\n",
       "  <tbody>\n",
       "    <tr>\n",
       "      <th>0</th>\n",
       "      <td>AUS</td>\n",
       "      <td>2011</td>\n",
       "      <td>72.65694</td>\n",
       "    </tr>\n",
       "    <tr>\n",
       "      <th>1</th>\n",
       "      <td>AUS</td>\n",
       "      <td>2012</td>\n",
       "      <td>72.34558</td>\n",
       "    </tr>\n",
       "    <tr>\n",
       "      <th>2</th>\n",
       "      <td>AUS</td>\n",
       "      <td>2013</td>\n",
       "      <td>71.97044</td>\n",
       "    </tr>\n",
       "    <tr>\n",
       "      <th>3</th>\n",
       "      <td>AUS</td>\n",
       "      <td>2014</td>\n",
       "      <td>71.56635</td>\n",
       "    </tr>\n",
       "    <tr>\n",
       "      <th>4</th>\n",
       "      <td>AUS</td>\n",
       "      <td>2015</td>\n",
       "      <td>72.15796</td>\n",
       "    </tr>\n",
       "  </tbody>\n",
       "</table>\n",
       "</div>"
      ],
      "text/plain": [
       "  Country  Year  EmploymentRate\n",
       "0     AUS  2011        72.65694\n",
       "1     AUS  2012        72.34558\n",
       "2     AUS  2013        71.97044\n",
       "3     AUS  2014        71.56635\n",
       "4     AUS  2015        72.15796"
      ]
     },
     "execution_count": 115,
     "metadata": {},
     "output_type": "execute_result"
    }
   ],
   "source": [
    "Employment_rate_df = pd.read_csv('/Users/jasonlee/Downloads/INFO2950_Project_Data/Employment_Rates.csv')\n",
    "\n",
    "#Renaming the columns \n",
    "Employment_rate_df.drop(['INDICATOR','SUBJECT','MEASURE','FREQUENCY','Flag Codes'],axis=1, inplace=True)\n",
    "\n",
    "Employment_rate_df.columns\n",
    "Employment_rate_df.columns = ['Country','Year','EmploymentRate']\n",
    "\n",
    "\n",
    "#Rows with the Country value 'OECD' is removed \n",
    "Employment_rate_df = Employment_rate_df.drop(Employment_rate_df.index[Employment_rate_df['Country'].isin(['OECD'])])\n",
    "print(Employment_rate_df.shape)\n",
    "Employment_rate_df.head()"
   ]
  },
  {
   "cell_type": "markdown",
   "id": "f383445b",
   "metadata": {},
   "source": [
    "## Percentage of Tertiary Education Received "
   ]
  },
  {
   "cell_type": "code",
   "execution_count": 114,
   "id": "6929cbeb",
   "metadata": {},
   "outputs": [
    {
     "name": "stdout",
     "output_type": "stream",
     "text": [
      "(380, 3)\n"
     ]
    },
    {
     "data": {
      "text/html": [
       "<div>\n",
       "<style scoped>\n",
       "    .dataframe tbody tr th:only-of-type {\n",
       "        vertical-align: middle;\n",
       "    }\n",
       "\n",
       "    .dataframe tbody tr th {\n",
       "        vertical-align: top;\n",
       "    }\n",
       "\n",
       "    .dataframe thead th {\n",
       "        text-align: right;\n",
       "    }\n",
       "</style>\n",
       "<table border=\"1\" class=\"dataframe\">\n",
       "  <thead>\n",
       "    <tr style=\"text-align: right;\">\n",
       "      <th></th>\n",
       "      <th>Country</th>\n",
       "      <th>Year</th>\n",
       "      <th>Percentage (25-64yrs)</th>\n",
       "    </tr>\n",
       "  </thead>\n",
       "  <tbody>\n",
       "    <tr>\n",
       "      <th>0</th>\n",
       "      <td>AUS</td>\n",
       "      <td>2011</td>\n",
       "      <td>38.342072</td>\n",
       "    </tr>\n",
       "    <tr>\n",
       "      <th>1</th>\n",
       "      <td>AUS</td>\n",
       "      <td>2012</td>\n",
       "      <td>41.282364</td>\n",
       "    </tr>\n",
       "    <tr>\n",
       "      <th>2</th>\n",
       "      <td>AUS</td>\n",
       "      <td>2013</td>\n",
       "      <td>39.539928</td>\n",
       "    </tr>\n",
       "    <tr>\n",
       "      <th>3</th>\n",
       "      <td>AUS</td>\n",
       "      <td>2014</td>\n",
       "      <td>41.901855</td>\n",
       "    </tr>\n",
       "    <tr>\n",
       "      <th>4</th>\n",
       "      <td>AUS</td>\n",
       "      <td>2015</td>\n",
       "      <td>42.888756</td>\n",
       "    </tr>\n",
       "  </tbody>\n",
       "</table>\n",
       "</div>"
      ],
      "text/plain": [
       "  Country  Year  Percentage (25-64yrs)\n",
       "0     AUS  2011              38.342072\n",
       "1     AUS  2012              41.282364\n",
       "2     AUS  2013              39.539928\n",
       "3     AUS  2014              41.901855\n",
       "4     AUS  2015              42.888756"
      ]
     },
     "execution_count": 114,
     "metadata": {},
     "output_type": "execute_result"
    }
   ],
   "source": [
    "Tertiary_education_df = pd.read_csv('/Users/jasonlee/Downloads/INFO2950_Project_Data/Tertiary_Education.csv')\n",
    "\n",
    "#Renaming the columns \n",
    "Tertiary_education_df.drop(['INDICATOR','SUBJECT','MEASURE','FREQUENCY','Flag Codes'],axis=1, inplace=True)\n",
    "\n",
    "Tertiary_education_df.columns\n",
    "Tertiary_education_df.columns = ['Country','Year','Percentage (25-64yrs)']\n",
    "\n",
    "\n",
    "#Rows with the Country value 'OECD' is removed \n",
    "Tertiary_education_df = Tertiary_education_df.drop(Tertiary_education_df.index[Tertiary_education_df['Country'].isin(['OECD','OAVG','G20',])])\n",
    "print(Tertiary_education_df.shape)\n",
    "Tertiary_education_df.head()"
   ]
  },
  {
   "cell_type": "markdown",
   "id": "7c898428",
   "metadata": {},
   "source": [
    "## Internet Access"
   ]
  },
  {
   "cell_type": "code",
   "execution_count": 119,
   "id": "52773299",
   "metadata": {},
   "outputs": [
    {
     "name": "stdout",
     "output_type": "stream",
     "text": [
      "(380, 3)\n"
     ]
    },
    {
     "data": {
      "text/html": [
       "<div>\n",
       "<style scoped>\n",
       "    .dataframe tbody tr th:only-of-type {\n",
       "        vertical-align: middle;\n",
       "    }\n",
       "\n",
       "    .dataframe tbody tr th {\n",
       "        vertical-align: top;\n",
       "    }\n",
       "\n",
       "    .dataframe thead th {\n",
       "        text-align: right;\n",
       "    }\n",
       "</style>\n",
       "<table border=\"1\" class=\"dataframe\">\n",
       "  <thead>\n",
       "    <tr style=\"text-align: right;\">\n",
       "      <th></th>\n",
       "      <th>Country</th>\n",
       "      <th>Year</th>\n",
       "      <th>Internet Access</th>\n",
       "    </tr>\n",
       "  </thead>\n",
       "  <tbody>\n",
       "    <tr>\n",
       "      <th>0</th>\n",
       "      <td>AUS</td>\n",
       "      <td>2011</td>\n",
       "      <td>NaN</td>\n",
       "    </tr>\n",
       "    <tr>\n",
       "      <th>1</th>\n",
       "      <td>AUS</td>\n",
       "      <td>2012</td>\n",
       "      <td>83.00</td>\n",
       "    </tr>\n",
       "    <tr>\n",
       "      <th>2</th>\n",
       "      <td>AUS</td>\n",
       "      <td>2013</td>\n",
       "      <td>NaN</td>\n",
       "    </tr>\n",
       "    <tr>\n",
       "      <th>3</th>\n",
       "      <td>AUS</td>\n",
       "      <td>2014</td>\n",
       "      <td>85.89</td>\n",
       "    </tr>\n",
       "    <tr>\n",
       "      <th>4</th>\n",
       "      <td>AUS</td>\n",
       "      <td>2015</td>\n",
       "      <td>NaN</td>\n",
       "    </tr>\n",
       "  </tbody>\n",
       "</table>\n",
       "</div>"
      ],
      "text/plain": [
       "  Country  Year  Internet Access\n",
       "0     AUS  2011              NaN\n",
       "1     AUS  2012            83.00\n",
       "2     AUS  2013              NaN\n",
       "3     AUS  2014            85.89\n",
       "4     AUS  2015              NaN"
      ]
     },
     "execution_count": 119,
     "metadata": {},
     "output_type": "execute_result"
    }
   ],
   "source": [
    "Internet_access_df = pd.read_csv('/Users/jasonlee/Downloads/INFO2950_Project_Data/Internet_Access.csv')\n",
    "\n",
    "#Renaming the columns \n",
    "Internet_access_df.drop(['INDICATOR','SUBJECT','MEASURE','FREQUENCY','Flag Codes'],axis=1, inplace=True)\n",
    "\n",
    "Internet_access_df.columns\n",
    "Internet_access_df.columns = ['Country','Year','Internet Access']\n",
    "\n",
    "\n",
    "#Rows with the Country value 'OECD' is removed \n",
    "Internet_access_df = Internet_access_df.drop(Internet_access_df.index[Internet_access_df['Country'].isin(['OECD'])])\n",
    "print(Internet_access_df.shape)\n",
    "Internet_access_df.head()"
   ]
  },
  {
   "cell_type": "markdown",
   "id": "8a534631",
   "metadata": {},
   "source": [
    "## Comprehensive View \n"
   ]
  },
  {
   "cell_type": "code",
   "execution_count": 120,
   "id": "3082227f",
   "metadata": {},
   "outputs": [
    {
     "name": "stdout",
     "output_type": "stream",
     "text": [
      "(370, 8)\n"
     ]
    },
    {
     "data": {
      "text/html": [
       "<div>\n",
       "<style scoped>\n",
       "    .dataframe tbody tr th:only-of-type {\n",
       "        vertical-align: middle;\n",
       "    }\n",
       "\n",
       "    .dataframe tbody tr th {\n",
       "        vertical-align: top;\n",
       "    }\n",
       "\n",
       "    .dataframe thead th {\n",
       "        text-align: right;\n",
       "    }\n",
       "</style>\n",
       "<table border=\"1\" class=\"dataframe\">\n",
       "  <thead>\n",
       "    <tr style=\"text-align: right;\">\n",
       "      <th></th>\n",
       "      <th>Country</th>\n",
       "      <th>Year</th>\n",
       "      <th>FertilityRate</th>\n",
       "      <th>GDP (US Dollar/Capita)</th>\n",
       "      <th>Health Spending (US Dollar/Capita)</th>\n",
       "      <th>EmploymentRate</th>\n",
       "      <th>Percentage (25-64yrs)</th>\n",
       "      <th>Internet Access</th>\n",
       "    </tr>\n",
       "  </thead>\n",
       "  <tbody>\n",
       "    <tr>\n",
       "      <th>0</th>\n",
       "      <td>AUS</td>\n",
       "      <td>2011</td>\n",
       "      <td>1.92</td>\n",
       "      <td>44429.559507</td>\n",
       "      <td>3809.112</td>\n",
       "      <td>72.65694</td>\n",
       "      <td>38.342072</td>\n",
       "      <td>NaN</td>\n",
       "    </tr>\n",
       "    <tr>\n",
       "      <th>1</th>\n",
       "      <td>AUS</td>\n",
       "      <td>2012</td>\n",
       "      <td>1.93</td>\n",
       "      <td>43883.378891</td>\n",
       "      <td>3854.190</td>\n",
       "      <td>72.34558</td>\n",
       "      <td>41.282364</td>\n",
       "      <td>83.00</td>\n",
       "    </tr>\n",
       "    <tr>\n",
       "      <th>2</th>\n",
       "      <td>AUS</td>\n",
       "      <td>2013</td>\n",
       "      <td>1.88</td>\n",
       "      <td>47761.901259</td>\n",
       "      <td>4087.849</td>\n",
       "      <td>71.97044</td>\n",
       "      <td>39.539928</td>\n",
       "      <td>NaN</td>\n",
       "    </tr>\n",
       "    <tr>\n",
       "      <th>3</th>\n",
       "      <td>AUS</td>\n",
       "      <td>2014</td>\n",
       "      <td>1.79</td>\n",
       "      <td>47603.880878</td>\n",
       "      <td>4562.730</td>\n",
       "      <td>71.56635</td>\n",
       "      <td>41.901855</td>\n",
       "      <td>85.89</td>\n",
       "    </tr>\n",
       "    <tr>\n",
       "      <th>4</th>\n",
       "      <td>AUS</td>\n",
       "      <td>2015</td>\n",
       "      <td>1.79</td>\n",
       "      <td>47232.629120</td>\n",
       "      <td>4777.388</td>\n",
       "      <td>72.15796</td>\n",
       "      <td>42.888756</td>\n",
       "      <td>NaN</td>\n",
       "    </tr>\n",
       "  </tbody>\n",
       "</table>\n",
       "</div>"
      ],
      "text/plain": [
       "  Country  Year  FertilityRate  GDP (US Dollar/Capita)  \\\n",
       "0     AUS  2011           1.92            44429.559507   \n",
       "1     AUS  2012           1.93            43883.378891   \n",
       "2     AUS  2013           1.88            47761.901259   \n",
       "3     AUS  2014           1.79            47603.880878   \n",
       "4     AUS  2015           1.79            47232.629120   \n",
       "\n",
       "   Health Spending (US Dollar/Capita)  EmploymentRate  Percentage (25-64yrs)  \\\n",
       "0                            3809.112        72.65694              38.342072   \n",
       "1                            3854.190        72.34558              41.282364   \n",
       "2                            4087.849        71.97044              39.539928   \n",
       "3                            4562.730        71.56635              41.901855   \n",
       "4                            4777.388        72.15796              42.888756   \n",
       "\n",
       "   Internet Access  \n",
       "0              NaN  \n",
       "1            83.00  \n",
       "2              NaN  \n",
       "3            85.89  \n",
       "4              NaN  "
      ]
     },
     "execution_count": 120,
     "metadata": {},
     "output_type": "execute_result"
    }
   ],
   "source": [
    "Comp_view = fertility_rates_df.merge(GDP_df, on=['Country','Year']).merge(Health_spending_df, on=['Country','Year']).merge(Employment_rate_df, on=['Country','Year']).merge(Tertiary_education_df, on=['Country','Year']).merge(Internet_access_df, on= ['Country','Year'])\n",
    "\n",
    "print(Comp_view.shape)\n",
    "\n",
    "Comp_view.head()\n",
    "\n"
   ]
  }
 ],
 "metadata": {
  "kernelspec": {
   "display_name": "Python 3 (ipykernel)",
   "language": "python",
   "name": "python3"
  },
  "language_info": {
   "codemirror_mode": {
    "name": "ipython",
    "version": 3
   },
   "file_extension": ".py",
   "mimetype": "text/x-python",
   "name": "python",
   "nbconvert_exporter": "python",
   "pygments_lexer": "ipython3",
   "version": "3.8.13"
  }
 },
 "nbformat": 4,
 "nbformat_minor": 5
}
