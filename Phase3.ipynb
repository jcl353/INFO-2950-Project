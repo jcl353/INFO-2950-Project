{
 "cells": [
  {
   "cell_type": "markdown",
   "id": "dc2b92ac-0584-433f-a459-4fe65e493042",
   "metadata": {},
   "source": [
    "Jay Lee\n",
    "Jason Lee"
   ]
  },
  {
   "cell_type": "markdown",
   "id": "7b39d1c2-45c6-44df-a917-51bd2e18196e",
   "metadata": {},
   "source": [
    "Phase 3: Preregistration of Analyses \n",
    "\n",
    "1. Analysis 1\n",
    "Within each indivdiual country, we will compare the variables of GDP, Employment Rate, Health Spending, Internet Access Data, and Percentage of Tertiary Education Received to its fertility rate, and intend to observe causal relationships between these variables. \n",
    "\n",
    "2. Analysis 2\n",
    "Classify each of the different countries into 7 continents, and compare these results to the specific datasets that we conducted of each individual country. In other words, we hope to bserve and analyze both the relations between the different variables and compare these results from a broader lens."
   ]
  },
  {
   "cell_type": "markdown",
   "id": "46df270f-2ce0-4231-840d-cd96dc371127",
   "metadata": {},
   "source": [
    "Question for Reviewers: \n",
    "1. Do these two different analyses work? We are concerned that if were to include the data of each country, that would be inefficient in terms of space and information. \n",
    "2. Does Analysis 2 vary subtantially from Analysis 1? Because essentially they regard the same concept, but I guess as we put these different countries into continents, we are able to view the data in a more concise but broader dataset. Mainly, we intend to study the relationship between broad (continents data) and \"more specific\" (analysis of each country). "
   ]
  }
 ],
 "metadata": {
  "kernelspec": {
   "display_name": "Python 3 (ipykernel)",
   "language": "python",
   "name": "python3"
  },
  "language_info": {
   "codemirror_mode": {
    "name": "ipython",
    "version": 3
   },
   "file_extension": ".py",
   "mimetype": "text/x-python",
   "name": "python",
   "nbconvert_exporter": "python",
   "pygments_lexer": "ipython3",
   "version": "3.8.13"
  }
 },
 "nbformat": 4,
 "nbformat_minor": 5
}
